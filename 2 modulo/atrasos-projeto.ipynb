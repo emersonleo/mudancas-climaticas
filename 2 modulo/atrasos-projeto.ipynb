{
 "cells": [
  {
   "cell_type": "code",
   "execution_count": 1,
   "metadata": {},
   "outputs": [],
   "source": [
    "import pandas as pd\n",
    "df = pd.read_csv('flightdata.csv')\n",
    "df = df.drop('Unnamed: 25', axis=1)\n",
    "df = df[[\"MONTH\", \"DAY_OF_MONTH\", \"DAY_OF_WEEK\", \"ORIGIN\", \"DEST\", \"CRS_DEP_TIME\", \"ARR_DEL15\"]]\n",
    "df = df.fillna({\"ARR_DEL15\":1})\n"
   ]
  },
  {
   "cell_type": "code",
   "execution_count": 2,
   "metadata": {},
   "outputs": [],
   "source": [
    "import math\n",
    "for index, row in df.iterrows():\n",
    "    df.loc[index,\"CRS_DEP_TIME\"] = math.floor(row[\"CRS_DEP_TIME\"]/100)\n",
    "df = pd.get_dummies(df, columns= ['ORIGIN','DEST'])"
   ]
  },
  {
   "cell_type": "code",
   "execution_count": 3,
   "metadata": {},
   "outputs": [
    {
     "data": {
      "text/plain": [
       "(2247,)"
      ]
     },
     "execution_count": 3,
     "metadata": {},
     "output_type": "execute_result"
    }
   ],
   "source": [
    "from sklearn.model_selection import train_test_split\n",
    "train_x, test_x, train_y, test_y = train_test_split(df.drop(\"ARR_DEL15\", axis=1), df['ARR_DEL15'], test_size=0.2, random_state=42)\n",
    "test_y.shape"
   ]
  },
  {
   "cell_type": "code",
   "execution_count": 5,
   "metadata": {},
   "outputs": [
    {
     "name": "stderr",
     "output_type": "stream",
     "text": [
      "/home/nbuser/anaconda3_501/lib/python3.6/site-packages/sklearn/ensemble/forest.py:246: FutureWarning: The default value of n_estimators will change from 10 in version 0.20 to 100 in 0.22.\n",
      "  \"10 in version 0.20 to 100 in 0.22.\", FutureWarning)\n"
     ]
    },
    {
     "data": {
      "text/plain": [
       "RandomForestClassifier(bootstrap=True, class_weight=None, criterion='gini',\n",
       "            max_depth=None, max_features='auto', max_leaf_nodes=None,\n",
       "            min_impurity_decrease=0.0, min_impurity_split=None,\n",
       "            min_samples_leaf=1, min_samples_split=2,\n",
       "            min_weight_fraction_leaf=0.0, n_estimators=10, n_jobs=None,\n",
       "            oob_score=False, random_state=13, verbose=0, warm_start=False)"
      ]
     },
     "execution_count": 5,
     "metadata": {},
     "output_type": "execute_result"
    }
   ],
   "source": [
    "from sklearn.ensemble import RandomForestClassifier\n",
    "model = RandomForestClassifier(random_state=13)\n",
    "model.fit(train_x,train_y)"
   ]
  },
  {
   "cell_type": "code",
   "execution_count": 6,
   "metadata": {},
   "outputs": [
    {
     "data": {
      "text/plain": [
       "0.8602581219403649"
      ]
     },
     "execution_count": 6,
     "metadata": {},
     "output_type": "execute_result"
    }
   ],
   "source": [
    "predict = model.predict(test_x)\n",
    "model.score(test_x,test_y)"
   ]
  },
  {
   "cell_type": "code",
   "execution_count": 10,
   "metadata": {},
   "outputs": [
    {
     "data": {
      "text/plain": [
       "0.6743824904998539"
      ]
     },
     "execution_count": 10,
     "metadata": {},
     "output_type": "execute_result"
    }
   ],
   "source": [
    "from sklearn.metrics import roc_auc_score\n",
    "prob = model.predict_proba(test_x)\n",
    "roc_auc_score(test_y,prob[:,1])"
   ]
  },
  {
   "cell_type": "code",
   "execution_count": 12,
   "metadata": {},
   "outputs": [
    {
     "data": {
      "text/plain": [
       "array([[1882,   54],\n",
       "       [ 260,   51]])"
      ]
     },
     "execution_count": 12,
     "metadata": {},
     "output_type": "execute_result"
    }
   ],
   "source": [
    "from sklearn.metrics import confusion_matrix\n",
    "confusion_matrix(test_y, predict)"
   ]
  },
  {
   "cell_type": "code",
   "execution_count": 17,
   "metadata": {},
   "outputs": [
    {
     "data": {
      "text/plain": [
       "0.9972375690607734"
      ]
     },
     "execution_count": 17,
     "metadata": {},
     "output_type": "execute_result"
    }
   ],
   "source": [
    "from sklearn.metrics import precision_score\n",
    "train_predicts = model.predict(train_x)\n",
    "precision_score(train_y,train_predicts)"
   ]
  },
  {
   "cell_type": "code",
   "execution_count": 18,
   "metadata": {},
   "outputs": [
    {
     "data": {
      "text/plain": [
       "0.8650159744408946"
      ]
     },
     "execution_count": 18,
     "metadata": {},
     "output_type": "execute_result"
    }
   ],
   "source": [
    "from sklearn.metrics import recall_score\n",
    "recall_score(train_y,train_predicts)"
   ]
  },
  {
   "cell_type": "code",
   "execution_count": 24,
   "metadata": {},
   "outputs": [],
   "source": [
    "%matplotlib inline\n",
    "import matplotlib.pyplot as plt\n",
    "import seaborn as sns\n",
    "sns.set()\n"
   ]
  },
  {
   "cell_type": "code",
   "execution_count": 26,
   "metadata": {},
   "outputs": [
    {
     "name": "stdout",
     "output_type": "stream",
     "text": [
      "[[0.8 0.2]\n",
      " [0.9 0.1]\n",
      " [1.  0. ]\n",
      " ...\n",
      " [0.9 0.1]\n",
      " [0.7 0.3]\n",
      " [1.  0. ]]\n"
     ]
    },
    {
     "data": {
      "text/plain": [
       "Text(0, 0.5, 'Precisão do verdadeiro positivo')"
      ]
     },
     "execution_count": 26,
     "metadata": {},
     "output_type": "execute_result"
    },
    {
     "data": {
      "image/png": "[encoded data removed]",
      "text/plain": [
       "<Figure size 432x288 with 1 Axes>"
      ]
     },
     "metadata": {},
     "output_type": "display_data"
    }
   ],
   "source": [
    "from sklearn.metrics import roc_curve\n",
    "print(prob)\n",
    "falso_positivo, verdadeiro_positivo, _ = roc_curve(test_y, prob[:, 1]) #montando o gráfico apenas com a precisão dos dados relevantes\n",
    "plt.plot(falso_positivo, verdadeiro_positivo)\n",
    "plt.plot([0, 1], [0, 1], color='black', lw=1, linestyle='--')\n",
    "plt.xlabel('Precisão do falso positivo')\n",
    "plt.ylabel('Precisão do verdadeiro positivo')"
   ]
  },
  {
   "cell_type": "code",
   "execution_count": 29,
   "metadata": {},
   "outputs": [],
   "source": [
    "from datetime import datetime\n",
    "def previsao(data,origem, destino):\n",
    "    try:\n",
    "        dataFormatada = datetime.strptime(data, '%d/%m/%Y %H:%M:%S')\n",
    "    except ValueError as e:\n",
    "        return 'Error parsing date/time - {}'.format(e)\n",
    "    mes = dataFormatada.month\n",
    "    dia = dataFormatada.day\n",
    "    hora = dataFormatada.hour\n",
    "    dia_da_semana = dataFormatada.isoweekday()\n",
    "    \n",
    "    origem = origem.upper()\n",
    "    destino = destino.upper()\n",
    "    input = [{'MONTH': mes,\n",
    "              'DAY': dia,\n",
    "              'DAY_OF_WEEK': dia_da_semana,\n",
    "              'CRS_DEP_TIME': hora,\n",
    "              'ORIGIN_ATL': 1 if origem == 'ATL' else 0,\n",
    "              'ORIGIN_DTW': 1 if origem == 'DTW' else 0,\n",
    "              'ORIGIN_JFK': 1 if origem == 'JFK' else 0,\n",
    "              'ORIGIN_MSP': 1 if origem == 'MSP' else 0,\n",
    "              'ORIGIN_SEA': 1 if origem == 'SEA' else 0,\n",
    "              'DEST_ATL': 1 if destino == 'ATL' else 0,\n",
    "              'DEST_DTW': 1 if destino == 'DTW' else 0,\n",
    "              'DEST_JFK': 1 if destino == 'JFK' else 0,\n",
    "              'DEST_MSP': 1 if destino == 'MSP' else 0,\n",
    "              'DEST_SEA': 1 if destino == 'SEA' else 0 }]\n",
    "    return model.predict_proba(pd.DataFrame(input))[0][0]"
   ]
  },
  {
   "cell_type": "code",
   "execution_count": 36,
   "metadata": {},
   "outputs": [
    {
     "data": {
      "text/plain": [
       "0.8"
      ]
     },
     "execution_count": 36,
     "metadata": {},
     "output_type": "execute_result"
    }
   ],
   "source": [
    "previsao('21/07/2020 21:45:00', 'JFK', 'ATL')"
   ]
  },
  {
   "cell_type": "code",
   "execution_count": 39,
   "metadata": {},
   "outputs": [
    {
     "data": {
      "text/plain": [
       "(0.0, 1.0)"
      ]
     },
     "execution_count": 39,
     "metadata": {},
     "output_type": "execute_result"
    },
    {
     "data": {
      "image/png": "[encoded data removed]",
      "text/plain": [
       "<Figure size 432x288 with 1 Axes>"
      ]
     },
     "metadata": {},
     "output_type": "display_data"
    }
   ],
   "source": [
    "import numpy as np\n",
    "labels=(\"Dia 1\",\"Dia 2\",\"Dia 3\",\"Dia 4\",\"Dia 5\",\"Dia 6\",\"Dia 7\",)\n",
    "valores = (previsao('18/07/2020 21:45:00', 'JFK', 'ATL'),\n",
    "          previsao('19/07/2020 21:45:00', 'JFK', 'ATL'),\n",
    "           previsao('20/07/2020 21:45:00', 'JFK', 'ATL'),\n",
    "          previsao('21/07/2020 21:45:00', 'JFK', 'ATL'),\n",
    "          previsao('22/07/2020 21:45:00', 'JFK', 'ATL'),\n",
    "          previsao('23/07/2020 21:45:00', 'JFK', 'ATL'),\n",
    "          previsao('24/07/2020 21:45:00', 'JFK', 'ATL'),)\n",
    "alabels = np.arange(len(labels))\n",
    "plt.bar(alabels, valores, align='center', alpha = 0.5)\n",
    "plt.xticks(alabels,labels)\n",
    "plt.ylabel(\"Probabilidade de chegar no horário de 18 a 24/07\")\n",
    "plt.ylim((0.0, 1.0))"
   ]
  },
  {
   "cell_type": "code",
   "execution_count": null,
   "metadata": {},
   "outputs": [],
   "source": []
  }
 ],
 "metadata": {
  "kernelspec": {
   "display_name": "Python 3.6",
   "language": "python",
   "name": "python36"
  },
  "language_info": {
   "codemirror_mode": {
    "name": "ipython",
    "version": 3
   },
   "file_extension": ".py",
   "mimetype": "text/x-python",
   "name": "python",
   "nbconvert_exporter": "python",
   "pygments_lexer": "ipython3",
   "version": "3.6.6"
  }
 },
 "nbformat": 4,
 "nbformat_minor": 2
}
